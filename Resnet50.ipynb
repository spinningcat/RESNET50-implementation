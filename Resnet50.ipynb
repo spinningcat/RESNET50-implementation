{
  "nbformat": 4,
  "nbformat_minor": 0,
  "metadata": {
    "colab": {
      "provenance": []
    },
    "kernelspec": {
      "name": "python3",
      "display_name": "Python 3"
    },
    "accelerator": "GPU"
  },
  "cells": [
    {
      "cell_type": "code",
      "metadata": {
        "id": "qWt1m-H6-jL7"
      },
      "source": [
        "a = []\n",
        "while(1):\n",
        "  a.append(\"1\")"
      ],
      "execution_count": null,
      "outputs": []
    },
    {
      "cell_type": "code",
      "metadata": {
        "id": "9wwqBlzTPSqd",
        "colab": {
          "base_uri": "https://localhost:8080/"
        },
        "outputId": "b11d96d8-bb38-46dd-f411-ead1fe63bf15"
      },
      "source": [
        "from google.colab import drive\n",
        "drive.mount('/content/drive')\n"
      ],
      "execution_count": null,
      "outputs": [
        {
          "output_type": "stream",
          "text": [
            "Mounted at /content/drive\n"
          ],
          "name": "stdout"
        }
      ]
    },
    {
      "cell_type": "code",
      "metadata": {
        "id": "CVa22rhiZ8EB"
      },
      "source": [
        "import numpy as np\n",
        "import pandas as pd\n",
        "import matplotlib.pyplot as plt\n",
        "import os\n",
        "import cv2\n",
        "from sklearn.preprocessing import LabelEncoder, OneHotEncoder\n",
        "from sklearn.utils import shuffle\n",
        "from sklearn.model_selection import train_test_split\n",
        "from keras import layers\n",
        "from keras.layers import Input, Add, Activation, ZeroPadding2D, BatchNormalization, Flatten, Convolution2D, AveragePooling2D, MaxPooling2D, Dense\n",
        "from keras.models import Model, load_model\n",
        "from keras.utils import layer_utils\n",
        "from keras.preprocessing import image\n",
        "from keras.utils.data_utils import get_file\n",
        "#from keras.application.imagenet_utils import preprocess_input\n",
        "import pydot\n",
        "#import IPython.display import SVG\n",
        "from keras.utils.vis_utils import model_to_dot\n",
        "from keras.utils import plot_model\n",
        "from keras.initializers import glorot_uniform\n",
        "#import scipy, misc\n",
        "from matplotlib.pyplot import imshow\n",
        "\n",
        "import random\n",
        "import pickle\n",
        "import cv2\n",
        "import os"
      ],
      "execution_count": null,
      "outputs": []
    },
    {
      "cell_type": "code",
      "metadata": {
        "id": "AvE0Nmb4auvU"
      },
      "source": [
        "dataset = pd.read_csv(\"ahlast.csv\")\n",
        "\n",
        "\n",
        "data = []\n",
        "\n",
        "channel = 3\n",
        "img_width, img_height = 224, 224\n",
        "\n",
        "path = '/content/drive/MyDrive/Hepsi'"
      ],
      "execution_count": null,
      "outputs": []
    },
    {
      "cell_type": "code",
      "metadata": {
        "id": "oTZ1uaoMbKej"
      },
      "source": [
        "for i in range(len(dataset)):\n",
        "    try:\n",
        "        class_num = dataset[\"Zaman Farkı\"][i]\n",
        "\n",
        "        data.append([cv2.resize(\n",
        "                        cv2.imread(\n",
        "                            os.path.join(path, dataset[\"new_name\"][i]), \n",
        "                            cv2.IMREAD_COLOR), \n",
        "                        (img_height,img_width)),\n",
        "                    class_num])\n",
        "    except Exception as e:\n",
        "            pass"
      ],
      "execution_count": null,
      "outputs": []
    },
    {
      "cell_type": "code",
      "metadata": {
        "id": "5KWKrGN6bT0p"
      },
      "source": [
        "a = np.array(data)\n",
        "a.shape\n",
        "\n"
      ],
      "execution_count": null,
      "outputs": []
    },
    {
      "cell_type": "code",
      "metadata": {
        "id": "8hSkk-pCbbZP"
      },
      "source": [
        "x = []\n",
        "y_names = []\n",
        "for features, labels in data:\n",
        "    x.append(features)\n",
        "    y_names.append(labels)\n",
        "\n",
        "y_names = np.array(y_names)\n",
        "x = np.array(x).reshape(-1, img_height, img_width, channel)\n",
        "x.shape, y_names.shape"
      ],
      "execution_count": null,
      "outputs": []
    },
    {
      "cell_type": "code",
      "metadata": {
        "id": "oyQzgAhUbdf5"
      },
      "source": [
        "a = np.array(y_names)\n",
        "a.shape"
      ],
      "execution_count": null,
      "outputs": []
    },
    {
      "cell_type": "code",
      "metadata": {
        "id": "nsL2-kL3bhrT"
      },
      "source": [
        "y = []\n",
        "\n",
        "for i in y_names:\n",
        "    if i < 94:\n",
        "        y.append(0)\n",
        "    elif i >= 94 and i < 165:\n",
        "        y.append(1)\n",
        "    elif i >= 165 and i <= 202:\n",
        "        y.append(2)\n",
        "    elif i > 202 and i < 285:\n",
        "        y.append(3)\n",
        "    elif i >= 285:\n",
        "        y.append(4)"
      ],
      "execution_count": null,
      "outputs": []
    },
    {
      "cell_type": "code",
      "metadata": {
        "id": "25dqbEQNblQE"
      },
      "source": [
        "a = np.array(y)\n",
        "a.shape"
      ],
      "execution_count": null,
      "outputs": []
    },
    {
      "cell_type": "code",
      "metadata": {
        "id": "x-xsa-3Tbpqj"
      },
      "source": [
        "y = to_categorical(y=y, num_classes=5, dtype='float32')\n",
        "y.shape"
      ],
      "execution_count": null,
      "outputs": []
    },
    {
      "cell_type": "code",
      "metadata": {
        "id": "8IMrF22jbuLc"
      },
      "source": [
        "import pickle\n",
        "\n",
        "pickle_out = open(\"/content/drive/MyDrive/x.pickle\", \"wb\")\n",
        "pickle.dump(x, pickle_out)\n",
        "pickle_out.close()\n",
        "\n",
        "pickle_out = open(\"/content/drive/MyDrive/y.pickle\", \"wb\")\n",
        "pickle.dump(y, pickle_out)\n",
        "pickle_out.close()"
      ],
      "execution_count": null,
      "outputs": []
    },
    {
      "cell_type": "code",
      "metadata": {
        "id": "rMpVO1_RbyEo"
      },
      "source": [
        "import pickle\n",
        "\n",
        "with open(\"/content/drive/MyDrive/x.pickle\", \"rb\") as pickle_in:\n",
        "  images = pickle.load(pickle_in)\n",
        "\n",
        "with open(\"/content/drive/MyDrive/y.pickle\", \"rb\") as pickle_in:\n",
        "  Y = pickle.load(pickle_in)"
      ],
      "execution_count": null,
      "outputs": []
    },
    {
      "cell_type": "code",
      "metadata": {
        "colab": {
          "base_uri": "https://localhost:8080/"
        },
        "id": "twmFoKGBb2Hi",
        "outputId": "f8113dba-7e59-49f5-945b-c33de39d593d"
      },
      "source": [
        "images.shape, Y.shape"
      ],
      "execution_count": null,
      "outputs": [
        {
          "output_type": "execute_result",
          "data": {
            "text/plain": [
              "((19696, 224, 224, 3), (19696, 5))"
            ]
          },
          "metadata": {
            "tags": []
          },
          "execution_count": 4
        }
      ]
    },
    {
      "cell_type": "markdown",
      "metadata": {
        "id": "ZvgWo58Ce0sL"
      },
      "source": [
        "Sanırım categorical_crossentropy, adam, softmax, relu standard olarak kullanıklıyor değil mi?\n",
        "\n",
        "relu bir activation, ara layerın sonunda kullanılıyor. diğerlerine göre daha iyi sonuç veriyor çünkü pozitif tarafta çıktı neyse onu dönüyor. pozitif tarafın gradient'ı da 1 olduğu için backpropagation kısmınsa gradient vanishing'e yardım ediyor. araştırmanı öneririm.\n",
        "\n",
        "softmax toplamı 1 yapıyor olasılık gibi, genelde sonda kullanılıyor bu yüzden\n",
        "\n",
        "adam bir optimizer, momentum'u falan otomatik ayarladığı için ve basit olduğu için daha rahat anlaşılıyor ve kullanılıyor.\n",
        "\n",
        "cc ise loss, birden fazla sınıf için sınıflandırma yapcaksan kullanılıyor\n",
        "\n",
        "direk tf documentationdan bakabilirsin hepsine, çok standard şeyler\n"
      ]
    },
    {
      "cell_type": "code",
      "metadata": {
        "colab": {
          "base_uri": "https://localhost:8080/"
        },
        "id": "dY2XLSnMb5B0",
        "outputId": "6a2ecf66-74d8-4824-f3c3-e9846c16d8d1"
      },
      "source": [
        "images, Y = shuffle(images, Y)\n",
        "# random_states = 1\n",
        "\n",
        "train_x, test_x, train_y, test_y = train_test_split(images, Y, random_state = 415)\n",
        "\n",
        "y_score = []\n",
        " \n",
        "for i in test_y:\n",
        "    if i[0] == 1.0:\n",
        "        y_score.append(0)\n",
        "    elif i[1] == 1.0:\n",
        "        y_score.append(1)\n",
        "    elif i[2] == 1.0:\n",
        "        y_score.append(2)\n",
        "    elif i[3] == 1.0:\n",
        "        y_score.append(3)\n",
        "    elif i[4] == 1.0:\n",
        "        y_score.append(4)\n",
        " \n",
        "y_score = np.array(y_score)\n",
        "\n",
        "\n",
        "\n",
        "def identity_block(X, f, filters):\n",
        "    #F1 = 64\n",
        "    #F2 = 64\n",
        "    #F3 = 256\n",
        "    F1, F2, F3 = filters\n",
        "\n",
        "    X_shortcut = X\n",
        "\n",
        "    X = Convolution2D(filters = F1, kernel_size = (1,1), strides = (1 ,1), padding=\"valid\")(X)\n",
        "    X = BatchNormalization(axis = 3)(X)\n",
        "    X = Activation(\"relu\")(X)\n",
        "\n",
        "    X = Convolution2D(filters = F2, kernel_size = (f,f), strides = (1 ,1), padding=\"same\")(X)\n",
        "    X = BatchNormalization(axis = 3)(X)\n",
        "    X = Activation(\"relu\")(X)\n",
        "\n",
        "    X = Convolution2D(filters = F3, kernel_size = (1,1), strides = (1 ,1), padding=\"valid\")(X)\n",
        "    X = BatchNormalization(axis = 3)(X)\n",
        "\n",
        "    X = Add()([X, X_shortcut])\n",
        "    X = Activation(\"relu\")(X)\n",
        "\n",
        "    return X\n",
        "\n",
        "def convolutional_block(X, f, filters, s=2):\n",
        "\n",
        "    F1, F2, F3 = filters\n",
        "\n",
        "    X_shortcut = X\n",
        "\n",
        "    X = Convolution2D(filters = F1, kernel_size = (1,1), strides = (s ,s))(X)\n",
        "    X = BatchNormalization(axis = 3)(X)\n",
        "    X = Activation(\"relu\")(X)\n",
        "\n",
        "    X = Convolution2D(filters = F2, kernel_size = (f,f), strides = (1 ,1), padding=\"same\")(X)\n",
        "    X = BatchNormalization(axis = 3)(X)\n",
        "    X = Activation(\"relu\")(X)\n",
        "\n",
        "    X = Convolution2D(filters = F3, kernel_size = (1,1), strides = (1 ,1), padding=\"valid\")(X)\n",
        "    X = BatchNormalization(axis = 3)(X)\n",
        "\n",
        "    X_shortcut = Convolution2D(filters = F3 , kernel_size = (1,1), strides = (s,s), padding=\"valid\")(X_shortcut)\n",
        "    X_shortcut = BatchNormalization(axis = 3)(X_shortcut)\n",
        "\n",
        "    X = Add()([X, X_shortcut])\n",
        "    X = Activation(\"relu\")(X)\n",
        "\n",
        "    return X\n",
        "\n",
        "def ResNet50(input_shape = (224, 224, 3), classes = 5):\n",
        "\n",
        "    # define the input shape with input_shape\n",
        "    X_input = Input(input_shape)\n",
        "\n",
        "    # zero_padding\n",
        "    X = ZeroPadding2D((3,3))(X_input) #3,3 padding\n",
        "\n",
        "    # stage 1\n",
        "    X = Convolution2D(filters = 64, kernel_size =  (7,7), strides = (2,2))(X)\n",
        "    #X = Convolution2d(filters = 64, kernel_size = (7, 7), strides = (2 ,2))(X)\n",
        "    X = BatchNormalization(axis = 3)(X)\n",
        "    X = Activation(\"relu\")(X)\n",
        "    x = MaxPooling2D((3,3), strides=(2,2))\n",
        "\n",
        "    # stage 2\n",
        "    X = convolutional_block(X, f = 3, filters = [64,64,256], s=1)\n",
        "    X = identity_block(X , 3, [64, 64, 256])\n",
        "    X = identity_block(X , 3, [64, 64, 256])\n",
        "\n",
        "    # stage 3\n",
        "    X = convolutional_block(X, f = 3, filters = [128, 128, 512], s = 2)\n",
        "    X = identity_block(X, 3, [128, 128, 512])\n",
        "    X = identity_block(X, 3, [128, 128, 512])\n",
        "    X = identity_block(X, 3, [128, 128, 512])\n",
        "\n",
        "    # stage 4\n",
        "    X = convolutional_block(X, f = 3, filters = [256, 256, 1024], s = 2)\n",
        "    X = identity_block(X, 3, [256, 256, 1024])\n",
        "    X = identity_block(X, 3, [256, 256, 1024])\n",
        "    X = identity_block(X, 3, [256, 256, 1024])\n",
        "    X = identity_block(X, 3, [256, 256, 1024])\n",
        "    X = identity_block(X, 3, [256, 256, 1024])\n",
        "\n",
        "    # stage 5\n",
        "    X = convolutional_block(X, f = 3, filters = [512, 128, 2048], s = 2)\n",
        "    X = identity_block(X, 3, [512, 512, 2048])\n",
        "    X = identity_block(X, 3, [512, 512, 2048])\n",
        "\n",
        "    # AVG POOL\n",
        "\n",
        "    X = AveragePooling2D((2,2), name = \"avg_pool\")(X)\n",
        "\n",
        "    X = Flatten()(X)\n",
        "\n",
        "    X = Dense(classes, activation = \"softmax\", name = \"fc\" + str(classes),  kernel_initializer = glorot_uniform(seed = 0))(X)\n",
        "    #\n",
        "\n",
        "    # create model\n",
        "\n",
        "    model = Model(inputs = X_input, outputs = X, name = \"ResNet50\")\n",
        "\n",
        "    return model\n",
        "\n",
        "model = ResNet50(input_shape=(224, 224, 3), classes= 5)\n",
        "model.compile(optimizer=\"adam\", loss=\"categorical_crossentropy\", metrics = [\"accuracy\"])\n",
        "\n",
        "model.summary()\n",
        "# use data of 0.2 as train data as validation data\n",
        "hist = model.fit(train_x, train_y, epochs = 60, batch_size = 32, validation_split = 0.2)\n",
        "\n",
        "preds = model.evaluate(test_x, test_y)\n",
        "\n",
        "print(\"Loss =\" + str(preds[0]))\n",
        "print(\"Test Accuracy =\" + str(preds[1]))"
      ],
      "execution_count": null,
      "outputs": [
        {
          "output_type": "stream",
          "text": [
            "Model: \"ResNet50\"\n",
            "__________________________________________________________________________________________________\n",
            "Layer (type)                    Output Shape         Param #     Connected to                     \n",
            "==================================================================================================\n",
            "input_1 (InputLayer)            [(None, 224, 224, 3) 0                                            \n",
            "__________________________________________________________________________________________________\n",
            "zero_padding2d (ZeroPadding2D)  (None, 230, 230, 3)  0           input_1[0][0]                    \n",
            "__________________________________________________________________________________________________\n",
            "conv2d (Conv2D)                 (None, 112, 112, 64) 9472        zero_padding2d[0][0]             \n",
            "__________________________________________________________________________________________________\n",
            "batch_normalization (BatchNorma (None, 112, 112, 64) 256         conv2d[0][0]                     \n",
            "__________________________________________________________________________________________________\n",
            "activation (Activation)         (None, 112, 112, 64) 0           batch_normalization[0][0]        \n",
            "__________________________________________________________________________________________________\n",
            "conv2d_1 (Conv2D)               (None, 112, 112, 64) 4160        activation[0][0]                 \n",
            "__________________________________________________________________________________________________\n",
            "batch_normalization_1 (BatchNor (None, 112, 112, 64) 256         conv2d_1[0][0]                   \n",
            "__________________________________________________________________________________________________\n",
            "activation_1 (Activation)       (None, 112, 112, 64) 0           batch_normalization_1[0][0]      \n",
            "__________________________________________________________________________________________________\n",
            "conv2d_2 (Conv2D)               (None, 112, 112, 64) 36928       activation_1[0][0]               \n",
            "__________________________________________________________________________________________________\n",
            "batch_normalization_2 (BatchNor (None, 112, 112, 64) 256         conv2d_2[0][0]                   \n",
            "__________________________________________________________________________________________________\n",
            "activation_2 (Activation)       (None, 112, 112, 64) 0           batch_normalization_2[0][0]      \n",
            "__________________________________________________________________________________________________\n",
            "conv2d_3 (Conv2D)               (None, 112, 112, 256 16640       activation_2[0][0]               \n",
            "__________________________________________________________________________________________________\n",
            "conv2d_4 (Conv2D)               (None, 112, 112, 256 16640       activation[0][0]                 \n",
            "__________________________________________________________________________________________________\n",
            "batch_normalization_3 (BatchNor (None, 112, 112, 256 1024        conv2d_3[0][0]                   \n",
            "__________________________________________________________________________________________________\n",
            "batch_normalization_4 (BatchNor (None, 112, 112, 256 1024        conv2d_4[0][0]                   \n",
            "__________________________________________________________________________________________________\n",
            "add (Add)                       (None, 112, 112, 256 0           batch_normalization_3[0][0]      \n",
            "                                                                 batch_normalization_4[0][0]      \n",
            "__________________________________________________________________________________________________\n",
            "activation_3 (Activation)       (None, 112, 112, 256 0           add[0][0]                        \n",
            "__________________________________________________________________________________________________\n",
            "conv2d_5 (Conv2D)               (None, 112, 112, 64) 16448       activation_3[0][0]               \n",
            "__________________________________________________________________________________________________\n",
            "batch_normalization_5 (BatchNor (None, 112, 112, 64) 256         conv2d_5[0][0]                   \n",
            "__________________________________________________________________________________________________\n",
            "activation_4 (Activation)       (None, 112, 112, 64) 0           batch_normalization_5[0][0]      \n",
            "__________________________________________________________________________________________________\n",
            "conv2d_6 (Conv2D)               (None, 112, 112, 64) 36928       activation_4[0][0]               \n",
            "__________________________________________________________________________________________________\n",
            "batch_normalization_6 (BatchNor (None, 112, 112, 64) 256         conv2d_6[0][0]                   \n",
            "__________________________________________________________________________________________________\n",
            "activation_5 (Activation)       (None, 112, 112, 64) 0           batch_normalization_6[0][0]      \n",
            "__________________________________________________________________________________________________\n",
            "conv2d_7 (Conv2D)               (None, 112, 112, 256 16640       activation_5[0][0]               \n",
            "__________________________________________________________________________________________________\n",
            "batch_normalization_7 (BatchNor (None, 112, 112, 256 1024        conv2d_7[0][0]                   \n",
            "__________________________________________________________________________________________________\n",
            "add_1 (Add)                     (None, 112, 112, 256 0           batch_normalization_7[0][0]      \n",
            "                                                                 activation_3[0][0]               \n",
            "__________________________________________________________________________________________________\n",
            "activation_6 (Activation)       (None, 112, 112, 256 0           add_1[0][0]                      \n",
            "__________________________________________________________________________________________________\n",
            "conv2d_8 (Conv2D)               (None, 112, 112, 64) 16448       activation_6[0][0]               \n",
            "__________________________________________________________________________________________________\n",
            "batch_normalization_8 (BatchNor (None, 112, 112, 64) 256         conv2d_8[0][0]                   \n",
            "__________________________________________________________________________________________________\n",
            "activation_7 (Activation)       (None, 112, 112, 64) 0           batch_normalization_8[0][0]      \n",
            "__________________________________________________________________________________________________\n",
            "conv2d_9 (Conv2D)               (None, 112, 112, 64) 36928       activation_7[0][0]               \n",
            "__________________________________________________________________________________________________\n",
            "batch_normalization_9 (BatchNor (None, 112, 112, 64) 256         conv2d_9[0][0]                   \n",
            "__________________________________________________________________________________________________\n",
            "activation_8 (Activation)       (None, 112, 112, 64) 0           batch_normalization_9[0][0]      \n",
            "__________________________________________________________________________________________________\n",
            "conv2d_10 (Conv2D)              (None, 112, 112, 256 16640       activation_8[0][0]               \n",
            "__________________________________________________________________________________________________\n",
            "batch_normalization_10 (BatchNo (None, 112, 112, 256 1024        conv2d_10[0][0]                  \n",
            "__________________________________________________________________________________________________\n",
            "add_2 (Add)                     (None, 112, 112, 256 0           batch_normalization_10[0][0]     \n",
            "                                                                 activation_6[0][0]               \n",
            "__________________________________________________________________________________________________\n",
            "activation_9 (Activation)       (None, 112, 112, 256 0           add_2[0][0]                      \n",
            "__________________________________________________________________________________________________\n",
            "conv2d_11 (Conv2D)              (None, 56, 56, 128)  32896       activation_9[0][0]               \n",
            "__________________________________________________________________________________________________\n",
            "batch_normalization_11 (BatchNo (None, 56, 56, 128)  512         conv2d_11[0][0]                  \n",
            "__________________________________________________________________________________________________\n",
            "activation_10 (Activation)      (None, 56, 56, 128)  0           batch_normalization_11[0][0]     \n",
            "__________________________________________________________________________________________________\n",
            "conv2d_12 (Conv2D)              (None, 56, 56, 128)  147584      activation_10[0][0]              \n",
            "__________________________________________________________________________________________________\n",
            "batch_normalization_12 (BatchNo (None, 56, 56, 128)  512         conv2d_12[0][0]                  \n",
            "__________________________________________________________________________________________________\n",
            "activation_11 (Activation)      (None, 56, 56, 128)  0           batch_normalization_12[0][0]     \n",
            "__________________________________________________________________________________________________\n",
            "conv2d_13 (Conv2D)              (None, 56, 56, 512)  66048       activation_11[0][0]              \n",
            "__________________________________________________________________________________________________\n",
            "conv2d_14 (Conv2D)              (None, 56, 56, 512)  131584      activation_9[0][0]               \n",
            "__________________________________________________________________________________________________\n",
            "batch_normalization_13 (BatchNo (None, 56, 56, 512)  2048        conv2d_13[0][0]                  \n",
            "__________________________________________________________________________________________________\n",
            "batch_normalization_14 (BatchNo (None, 56, 56, 512)  2048        conv2d_14[0][0]                  \n",
            "__________________________________________________________________________________________________\n",
            "add_3 (Add)                     (None, 56, 56, 512)  0           batch_normalization_13[0][0]     \n",
            "                                                                 batch_normalization_14[0][0]     \n",
            "__________________________________________________________________________________________________\n",
            "activation_12 (Activation)      (None, 56, 56, 512)  0           add_3[0][0]                      \n",
            "__________________________________________________________________________________________________\n",
            "conv2d_15 (Conv2D)              (None, 56, 56, 128)  65664       activation_12[0][0]              \n",
            "__________________________________________________________________________________________________\n",
            "batch_normalization_15 (BatchNo (None, 56, 56, 128)  512         conv2d_15[0][0]                  \n",
            "__________________________________________________________________________________________________\n",
            "activation_13 (Activation)      (None, 56, 56, 128)  0           batch_normalization_15[0][0]     \n",
            "__________________________________________________________________________________________________\n",
            "conv2d_16 (Conv2D)              (None, 56, 56, 128)  147584      activation_13[0][0]              \n",
            "__________________________________________________________________________________________________\n",
            "batch_normalization_16 (BatchNo (None, 56, 56, 128)  512         conv2d_16[0][0]                  \n",
            "__________________________________________________________________________________________________\n",
            "activation_14 (Activation)      (None, 56, 56, 128)  0           batch_normalization_16[0][0]     \n",
            "__________________________________________________________________________________________________\n",
            "conv2d_17 (Conv2D)              (None, 56, 56, 512)  66048       activation_14[0][0]              \n",
            "__________________________________________________________________________________________________\n",
            "batch_normalization_17 (BatchNo (None, 56, 56, 512)  2048        conv2d_17[0][0]                  \n",
            "__________________________________________________________________________________________________\n",
            "add_4 (Add)                     (None, 56, 56, 512)  0           batch_normalization_17[0][0]     \n",
            "                                                                 activation_12[0][0]              \n",
            "__________________________________________________________________________________________________\n",
            "activation_15 (Activation)      (None, 56, 56, 512)  0           add_4[0][0]                      \n",
            "__________________________________________________________________________________________________\n",
            "conv2d_18 (Conv2D)              (None, 56, 56, 128)  65664       activation_15[0][0]              \n",
            "__________________________________________________________________________________________________\n",
            "batch_normalization_18 (BatchNo (None, 56, 56, 128)  512         conv2d_18[0][0]                  \n",
            "__________________________________________________________________________________________________\n",
            "activation_16 (Activation)      (None, 56, 56, 128)  0           batch_normalization_18[0][0]     \n",
            "__________________________________________________________________________________________________\n",
            "conv2d_19 (Conv2D)              (None, 56, 56, 128)  147584      activation_16[0][0]              \n",
            "__________________________________________________________________________________________________\n",
            "batch_normalization_19 (BatchNo (None, 56, 56, 128)  512         conv2d_19[0][0]                  \n",
            "__________________________________________________________________________________________________\n",
            "activation_17 (Activation)      (None, 56, 56, 128)  0           batch_normalization_19[0][0]     \n",
            "__________________________________________________________________________________________________\n",
            "conv2d_20 (Conv2D)              (None, 56, 56, 512)  66048       activation_17[0][0]              \n",
            "__________________________________________________________________________________________________\n",
            "batch_normalization_20 (BatchNo (None, 56, 56, 512)  2048        conv2d_20[0][0]                  \n",
            "__________________________________________________________________________________________________\n",
            "add_5 (Add)                     (None, 56, 56, 512)  0           batch_normalization_20[0][0]     \n",
            "                                                                 activation_15[0][0]              \n",
            "__________________________________________________________________________________________________\n",
            "activation_18 (Activation)      (None, 56, 56, 512)  0           add_5[0][0]                      \n",
            "__________________________________________________________________________________________________\n",
            "conv2d_21 (Conv2D)              (None, 56, 56, 128)  65664       activation_18[0][0]              \n",
            "__________________________________________________________________________________________________\n",
            "batch_normalization_21 (BatchNo (None, 56, 56, 128)  512         conv2d_21[0][0]                  \n",
            "__________________________________________________________________________________________________\n",
            "activation_19 (Activation)      (None, 56, 56, 128)  0           batch_normalization_21[0][0]     \n",
            "__________________________________________________________________________________________________\n",
            "conv2d_22 (Conv2D)              (None, 56, 56, 128)  147584      activation_19[0][0]              \n",
            "__________________________________________________________________________________________________\n",
            "batch_normalization_22 (BatchNo (None, 56, 56, 128)  512         conv2d_22[0][0]                  \n",
            "__________________________________________________________________________________________________\n",
            "activation_20 (Activation)      (None, 56, 56, 128)  0           batch_normalization_22[0][0]     \n",
            "__________________________________________________________________________________________________\n",
            "conv2d_23 (Conv2D)              (None, 56, 56, 512)  66048       activation_20[0][0]              \n",
            "__________________________________________________________________________________________________\n",
            "batch_normalization_23 (BatchNo (None, 56, 56, 512)  2048        conv2d_23[0][0]                  \n",
            "__________________________________________________________________________________________________\n",
            "add_6 (Add)                     (None, 56, 56, 512)  0           batch_normalization_23[0][0]     \n",
            "                                                                 activation_18[0][0]              \n",
            "__________________________________________________________________________________________________\n",
            "activation_21 (Activation)      (None, 56, 56, 512)  0           add_6[0][0]                      \n",
            "__________________________________________________________________________________________________\n",
            "conv2d_24 (Conv2D)              (None, 28, 28, 256)  131328      activation_21[0][0]              \n",
            "__________________________________________________________________________________________________\n",
            "batch_normalization_24 (BatchNo (None, 28, 28, 256)  1024        conv2d_24[0][0]                  \n",
            "__________________________________________________________________________________________________\n",
            "activation_22 (Activation)      (None, 28, 28, 256)  0           batch_normalization_24[0][0]     \n",
            "__________________________________________________________________________________________________\n",
            "conv2d_25 (Conv2D)              (None, 28, 28, 256)  590080      activation_22[0][0]              \n",
            "__________________________________________________________________________________________________\n",
            "batch_normalization_25 (BatchNo (None, 28, 28, 256)  1024        conv2d_25[0][0]                  \n",
            "__________________________________________________________________________________________________\n",
            "activation_23 (Activation)      (None, 28, 28, 256)  0           batch_normalization_25[0][0]     \n",
            "__________________________________________________________________________________________________\n",
            "conv2d_26 (Conv2D)              (None, 28, 28, 1024) 263168      activation_23[0][0]              \n",
            "__________________________________________________________________________________________________\n",
            "conv2d_27 (Conv2D)              (None, 28, 28, 1024) 525312      activation_21[0][0]              \n",
            "__________________________________________________________________________________________________\n",
            "batch_normalization_26 (BatchNo (None, 28, 28, 1024) 4096        conv2d_26[0][0]                  \n",
            "__________________________________________________________________________________________________\n",
            "batch_normalization_27 (BatchNo (None, 28, 28, 1024) 4096        conv2d_27[0][0]                  \n",
            "__________________________________________________________________________________________________\n",
            "add_7 (Add)                     (None, 28, 28, 1024) 0           batch_normalization_26[0][0]     \n",
            "                                                                 batch_normalization_27[0][0]     \n",
            "__________________________________________________________________________________________________\n",
            "activation_24 (Activation)      (None, 28, 28, 1024) 0           add_7[0][0]                      \n",
            "__________________________________________________________________________________________________\n",
            "conv2d_28 (Conv2D)              (None, 28, 28, 256)  262400      activation_24[0][0]              \n",
            "__________________________________________________________________________________________________\n",
            "batch_normalization_28 (BatchNo (None, 28, 28, 256)  1024        conv2d_28[0][0]                  \n",
            "__________________________________________________________________________________________________\n",
            "activation_25 (Activation)      (None, 28, 28, 256)  0           batch_normalization_28[0][0]     \n",
            "__________________________________________________________________________________________________\n",
            "conv2d_29 (Conv2D)              (None, 28, 28, 256)  590080      activation_25[0][0]              \n",
            "__________________________________________________________________________________________________\n",
            "batch_normalization_29 (BatchNo (None, 28, 28, 256)  1024        conv2d_29[0][0]                  \n",
            "__________________________________________________________________________________________________\n",
            "activation_26 (Activation)      (None, 28, 28, 256)  0           batch_normalization_29[0][0]     \n",
            "__________________________________________________________________________________________________\n",
            "conv2d_30 (Conv2D)              (None, 28, 28, 1024) 263168      activation_26[0][0]              \n",
            "__________________________________________________________________________________________________\n",
            "batch_normalization_30 (BatchNo (None, 28, 28, 1024) 4096        conv2d_30[0][0]                  \n",
            "__________________________________________________________________________________________________\n",
            "add_8 (Add)                     (None, 28, 28, 1024) 0           batch_normalization_30[0][0]     \n",
            "                                                                 activation_24[0][0]              \n",
            "__________________________________________________________________________________________________\n",
            "activation_27 (Activation)      (None, 28, 28, 1024) 0           add_8[0][0]                      \n",
            "__________________________________________________________________________________________________\n",
            "conv2d_31 (Conv2D)              (None, 28, 28, 256)  262400      activation_27[0][0]              \n",
            "__________________________________________________________________________________________________\n",
            "batch_normalization_31 (BatchNo (None, 28, 28, 256)  1024        conv2d_31[0][0]                  \n",
            "__________________________________________________________________________________________________\n",
            "activation_28 (Activation)      (None, 28, 28, 256)  0           batch_normalization_31[0][0]     \n",
            "__________________________________________________________________________________________________\n",
            "conv2d_32 (Conv2D)              (None, 28, 28, 256)  590080      activation_28[0][0]              \n",
            "__________________________________________________________________________________________________\n",
            "batch_normalization_32 (BatchNo (None, 28, 28, 256)  1024        conv2d_32[0][0]                  \n",
            "__________________________________________________________________________________________________\n",
            "activation_29 (Activation)      (None, 28, 28, 256)  0           batch_normalization_32[0][0]     \n",
            "__________________________________________________________________________________________________\n",
            "conv2d_33 (Conv2D)              (None, 28, 28, 1024) 263168      activation_29[0][0]              \n",
            "__________________________________________________________________________________________________\n",
            "batch_normalization_33 (BatchNo (None, 28, 28, 1024) 4096        conv2d_33[0][0]                  \n",
            "__________________________________________________________________________________________________\n",
            "add_9 (Add)                     (None, 28, 28, 1024) 0           batch_normalization_33[0][0]     \n",
            "                                                                 activation_27[0][0]              \n",
            "__________________________________________________________________________________________________\n",
            "activation_30 (Activation)      (None, 28, 28, 1024) 0           add_9[0][0]                      \n",
            "__________________________________________________________________________________________________\n",
            "conv2d_34 (Conv2D)              (None, 28, 28, 256)  262400      activation_30[0][0]              \n",
            "__________________________________________________________________________________________________\n",
            "batch_normalization_34 (BatchNo (None, 28, 28, 256)  1024        conv2d_34[0][0]                  \n",
            "__________________________________________________________________________________________________\n",
            "activation_31 (Activation)      (None, 28, 28, 256)  0           batch_normalization_34[0][0]     \n",
            "__________________________________________________________________________________________________\n",
            "conv2d_35 (Conv2D)              (None, 28, 28, 256)  590080      activation_31[0][0]              \n",
            "__________________________________________________________________________________________________\n",
            "batch_normalization_35 (BatchNo (None, 28, 28, 256)  1024        conv2d_35[0][0]                  \n",
            "__________________________________________________________________________________________________\n",
            "activation_32 (Activation)      (None, 28, 28, 256)  0           batch_normalization_35[0][0]     \n",
            "__________________________________________________________________________________________________\n",
            "conv2d_36 (Conv2D)              (None, 28, 28, 1024) 263168      activation_32[0][0]              \n",
            "__________________________________________________________________________________________________\n",
            "batch_normalization_36 (BatchNo (None, 28, 28, 1024) 4096        conv2d_36[0][0]                  \n",
            "__________________________________________________________________________________________________\n",
            "add_10 (Add)                    (None, 28, 28, 1024) 0           batch_normalization_36[0][0]     \n",
            "                                                                 activation_30[0][0]              \n",
            "__________________________________________________________________________________________________\n",
            "activation_33 (Activation)      (None, 28, 28, 1024) 0           add_10[0][0]                     \n",
            "__________________________________________________________________________________________________\n",
            "conv2d_37 (Conv2D)              (None, 28, 28, 256)  262400      activation_33[0][0]              \n",
            "__________________________________________________________________________________________________\n",
            "batch_normalization_37 (BatchNo (None, 28, 28, 256)  1024        conv2d_37[0][0]                  \n",
            "__________________________________________________________________________________________________\n",
            "activation_34 (Activation)      (None, 28, 28, 256)  0           batch_normalization_37[0][0]     \n",
            "__________________________________________________________________________________________________\n",
            "conv2d_38 (Conv2D)              (None, 28, 28, 256)  590080      activation_34[0][0]              \n",
            "__________________________________________________________________________________________________\n",
            "batch_normalization_38 (BatchNo (None, 28, 28, 256)  1024        conv2d_38[0][0]                  \n",
            "__________________________________________________________________________________________________\n",
            "activation_35 (Activation)      (None, 28, 28, 256)  0           batch_normalization_38[0][0]     \n",
            "__________________________________________________________________________________________________\n",
            "conv2d_39 (Conv2D)              (None, 28, 28, 1024) 263168      activation_35[0][0]              \n",
            "__________________________________________________________________________________________________\n",
            "batch_normalization_39 (BatchNo (None, 28, 28, 1024) 4096        conv2d_39[0][0]                  \n",
            "__________________________________________________________________________________________________\n",
            "add_11 (Add)                    (None, 28, 28, 1024) 0           batch_normalization_39[0][0]     \n",
            "                                                                 activation_33[0][0]              \n",
            "__________________________________________________________________________________________________\n",
            "activation_36 (Activation)      (None, 28, 28, 1024) 0           add_11[0][0]                     \n",
            "__________________________________________________________________________________________________\n",
            "conv2d_40 (Conv2D)              (None, 28, 28, 256)  262400      activation_36[0][0]              \n",
            "__________________________________________________________________________________________________\n",
            "batch_normalization_40 (BatchNo (None, 28, 28, 256)  1024        conv2d_40[0][0]                  \n",
            "__________________________________________________________________________________________________\n",
            "activation_37 (Activation)      (None, 28, 28, 256)  0           batch_normalization_40[0][0]     \n",
            "__________________________________________________________________________________________________\n",
            "conv2d_41 (Conv2D)              (None, 28, 28, 256)  590080      activation_37[0][0]              \n",
            "__________________________________________________________________________________________________\n",
            "batch_normalization_41 (BatchNo (None, 28, 28, 256)  1024        conv2d_41[0][0]                  \n",
            "__________________________________________________________________________________________________\n",
            "activation_38 (Activation)      (None, 28, 28, 256)  0           batch_normalization_41[0][0]     \n",
            "__________________________________________________________________________________________________\n",
            "conv2d_42 (Conv2D)              (None, 28, 28, 1024) 263168      activation_38[0][0]              \n",
            "__________________________________________________________________________________________________\n",
            "batch_normalization_42 (BatchNo (None, 28, 28, 1024) 4096        conv2d_42[0][0]                  \n",
            "__________________________________________________________________________________________________\n",
            "add_12 (Add)                    (None, 28, 28, 1024) 0           batch_normalization_42[0][0]     \n",
            "                                                                 activation_36[0][0]              \n",
            "__________________________________________________________________________________________________\n",
            "activation_39 (Activation)      (None, 28, 28, 1024) 0           add_12[0][0]                     \n",
            "__________________________________________________________________________________________________\n",
            "conv2d_43 (Conv2D)              (None, 14, 14, 512)  524800      activation_39[0][0]              \n",
            "__________________________________________________________________________________________________\n",
            "batch_normalization_43 (BatchNo (None, 14, 14, 512)  2048        conv2d_43[0][0]                  \n",
            "__________________________________________________________________________________________________\n",
            "activation_40 (Activation)      (None, 14, 14, 512)  0           batch_normalization_43[0][0]     \n",
            "__________________________________________________________________________________________________\n",
            "conv2d_44 (Conv2D)              (None, 14, 14, 128)  589952      activation_40[0][0]              \n",
            "__________________________________________________________________________________________________\n",
            "batch_normalization_44 (BatchNo (None, 14, 14, 128)  512         conv2d_44[0][0]                  \n",
            "__________________________________________________________________________________________________\n",
            "activation_41 (Activation)      (None, 14, 14, 128)  0           batch_normalization_44[0][0]     \n",
            "__________________________________________________________________________________________________\n",
            "conv2d_45 (Conv2D)              (None, 14, 14, 2048) 264192      activation_41[0][0]              \n",
            "__________________________________________________________________________________________________\n",
            "conv2d_46 (Conv2D)              (None, 14, 14, 2048) 2099200     activation_39[0][0]              \n",
            "__________________________________________________________________________________________________\n",
            "batch_normalization_45 (BatchNo (None, 14, 14, 2048) 8192        conv2d_45[0][0]                  \n",
            "__________________________________________________________________________________________________\n",
            "batch_normalization_46 (BatchNo (None, 14, 14, 2048) 8192        conv2d_46[0][0]                  \n",
            "__________________________________________________________________________________________________\n",
            "add_13 (Add)                    (None, 14, 14, 2048) 0           batch_normalization_45[0][0]     \n",
            "                                                                 batch_normalization_46[0][0]     \n",
            "__________________________________________________________________________________________________\n",
            "activation_42 (Activation)      (None, 14, 14, 2048) 0           add_13[0][0]                     \n",
            "__________________________________________________________________________________________________\n",
            "conv2d_47 (Conv2D)              (None, 14, 14, 512)  1049088     activation_42[0][0]              \n",
            "__________________________________________________________________________________________________\n",
            "batch_normalization_47 (BatchNo (None, 14, 14, 512)  2048        conv2d_47[0][0]                  \n",
            "__________________________________________________________________________________________________\n",
            "activation_43 (Activation)      (None, 14, 14, 512)  0           batch_normalization_47[0][0]     \n",
            "__________________________________________________________________________________________________\n",
            "conv2d_48 (Conv2D)              (None, 14, 14, 512)  2359808     activation_43[0][0]              \n",
            "__________________________________________________________________________________________________\n",
            "batch_normalization_48 (BatchNo (None, 14, 14, 512)  2048        conv2d_48[0][0]                  \n",
            "__________________________________________________________________________________________________\n",
            "activation_44 (Activation)      (None, 14, 14, 512)  0           batch_normalization_48[0][0]     \n",
            "__________________________________________________________________________________________________\n",
            "conv2d_49 (Conv2D)              (None, 14, 14, 2048) 1050624     activation_44[0][0]              \n",
            "__________________________________________________________________________________________________\n",
            "batch_normalization_49 (BatchNo (None, 14, 14, 2048) 8192        conv2d_49[0][0]                  \n",
            "__________________________________________________________________________________________________\n",
            "add_14 (Add)                    (None, 14, 14, 2048) 0           batch_normalization_49[0][0]     \n",
            "                                                                 activation_42[0][0]              \n",
            "__________________________________________________________________________________________________\n",
            "activation_45 (Activation)      (None, 14, 14, 2048) 0           add_14[0][0]                     \n",
            "__________________________________________________________________________________________________\n",
            "conv2d_50 (Conv2D)              (None, 14, 14, 512)  1049088     activation_45[0][0]              \n",
            "__________________________________________________________________________________________________\n",
            "batch_normalization_50 (BatchNo (None, 14, 14, 512)  2048        conv2d_50[0][0]                  \n",
            "__________________________________________________________________________________________________\n",
            "activation_46 (Activation)      (None, 14, 14, 512)  0           batch_normalization_50[0][0]     \n",
            "__________________________________________________________________________________________________\n",
            "conv2d_51 (Conv2D)              (None, 14, 14, 512)  2359808     activation_46[0][0]              \n",
            "__________________________________________________________________________________________________\n",
            "batch_normalization_51 (BatchNo (None, 14, 14, 512)  2048        conv2d_51[0][0]                  \n",
            "__________________________________________________________________________________________________\n",
            "activation_47 (Activation)      (None, 14, 14, 512)  0           batch_normalization_51[0][0]     \n",
            "__________________________________________________________________________________________________\n",
            "conv2d_52 (Conv2D)              (None, 14, 14, 2048) 1050624     activation_47[0][0]              \n",
            "__________________________________________________________________________________________________\n",
            "batch_normalization_52 (BatchNo (None, 14, 14, 2048) 8192        conv2d_52[0][0]                  \n",
            "__________________________________________________________________________________________________\n",
            "add_15 (Add)                    (None, 14, 14, 2048) 0           batch_normalization_52[0][0]     \n",
            "                                                                 activation_45[0][0]              \n",
            "__________________________________________________________________________________________________\n",
            "activation_48 (Activation)      (None, 14, 14, 2048) 0           add_15[0][0]                     \n",
            "__________________________________________________________________________________________________\n",
            "avg_pool (AveragePooling2D)     (None, 7, 7, 2048)   0           activation_48[0][0]              \n",
            "__________________________________________________________________________________________________\n",
            "flatten (Flatten)               (None, 100352)       0           avg_pool[0][0]                   \n",
            "__________________________________________________________________________________________________\n",
            "fc5 (Dense)                     (None, 5)            501765      flatten[0][0]                    \n",
            "==================================================================================================\n",
            "Total params: 21,531,653\n",
            "Trainable params: 21,479,301\n",
            "Non-trainable params: 52,352\n",
            "__________________________________________________________________________________________________\n",
            "Epoch 1/60\n",
            "370/370 [==============================] - 462s 1s/step - loss: 8.1182 - accuracy: 0.2104 - val_loss: 2.9566 - val_accuracy: 0.2017\n",
            "Epoch 2/60\n",
            "370/370 [==============================] - 450s 1s/step - loss: 1.6055 - accuracy: 0.2361 - val_loss: 5.4158 - val_accuracy: 0.2206\n",
            "Epoch 3/60\n",
            "370/370 [==============================] - 445s 1s/step - loss: 1.6111 - accuracy: 0.2492 - val_loss: 1.6575 - val_accuracy: 0.2511\n",
            "Epoch 4/60\n",
            "370/370 [==============================] - 446s 1s/step - loss: 1.5875 - accuracy: 0.2574 - val_loss: 1.6379 - val_accuracy: 0.2569\n",
            "Epoch 5/60\n",
            "370/370 [==============================] - 445s 1s/step - loss: 1.5801 - accuracy: 0.2642 - val_loss: 1.7307 - val_accuracy: 0.2552\n",
            "Epoch 6/60\n",
            "370/370 [==============================] - 446s 1s/step - loss: 1.5669 - accuracy: 0.2806 - val_loss: 1.5841 - val_accuracy: 0.2646\n",
            "Epoch 7/60\n",
            "370/370 [==============================] - 444s 1s/step - loss: 1.5419 - accuracy: 0.3200 - val_loss: 1.5069 - val_accuracy: 0.3482\n",
            "Epoch 8/60\n",
            "370/370 [==============================] - 449s 1s/step - loss: 1.4418 - accuracy: 0.3866 - val_loss: 1.5075 - val_accuracy: 0.3147\n",
            "Epoch 9/60\n",
            "370/370 [==============================] - 451s 1s/step - loss: 1.3472 - accuracy: 0.4324 - val_loss: 1.4205 - val_accuracy: 0.3645\n",
            "Epoch 10/60\n",
            "370/370 [==============================] - 451s 1s/step - loss: 1.2634 - accuracy: 0.4671 - val_loss: 1.5451 - val_accuracy: 0.3218\n",
            "Epoch 11/60\n",
            "370/370 [==============================] - 451s 1s/step - loss: 1.3610 - accuracy: 0.4354 - val_loss: 1.3352 - val_accuracy: 0.4200\n",
            "Epoch 12/60\n",
            "370/370 [==============================] - 452s 1s/step - loss: 1.2491 - accuracy: 0.4741 - val_loss: 1.2839 - val_accuracy: 0.4477\n",
            "Epoch 13/60\n",
            "370/370 [==============================] - 451s 1s/step - loss: 1.1940 - accuracy: 0.4948 - val_loss: 1.7850 - val_accuracy: 0.3398\n",
            "Epoch 14/60\n",
            "370/370 [==============================] - 450s 1s/step - loss: 1.1423 - accuracy: 0.5316 - val_loss: 1.8856 - val_accuracy: 0.2220\n",
            "Epoch 15/60\n",
            "370/370 [==============================] - 451s 1s/step - loss: 1.1486 - accuracy: 0.5222 - val_loss: 1.1880 - val_accuracy: 0.4832\n",
            "Epoch 16/60\n",
            "370/370 [==============================] - 451s 1s/step - loss: 1.0566 - accuracy: 0.5711 - val_loss: 1.4034 - val_accuracy: 0.4396\n",
            "Epoch 17/60\n",
            "370/370 [==============================] - 451s 1s/step - loss: 1.0357 - accuracy: 0.5713 - val_loss: 1.3866 - val_accuracy: 0.4349\n",
            "Epoch 18/60\n",
            "370/370 [==============================] - 452s 1s/step - loss: 1.0121 - accuracy: 0.5889 - val_loss: 1.6304 - val_accuracy: 0.3838\n",
            "Epoch 19/60\n",
            "370/370 [==============================] - 452s 1s/step - loss: 1.0379 - accuracy: 0.5829 - val_loss: 2.9835 - val_accuracy: 0.2948\n",
            "Epoch 20/60\n",
            "246/370 [==================>...........] - ETA: 2:20 - loss: 1.0248 - accuracy: 0.5913"
          ],
          "name": "stdout"
        }
      ]
    },
    {
      "cell_type": "code",
      "metadata": {
        "id": "-BdKTPzs2Opz",
        "colab": {
          "base_uri": "https://localhost:8080/"
        },
        "outputId": "f60d815f-ceed-4311-9826-8fef50287ea9"
      },
      "source": [
        "#model.summary()\n",
        "y_pr = model.predict(test_x)\n",
        "y_pred = []\n",
        "for i in y_pr:\n",
        "    y_pred.append(np.where(i == max(i))[0][0])\n",
        " \n",
        "y_pred = np.array(y_pred)\n",
        "y_pred.shape, y_score.shape"
      ],
      "execution_count": null,
      "outputs": [
        {
          "output_type": "execute_result",
          "data": {
            "text/plain": [
              "((5909,), (5909,))"
            ]
          },
          "metadata": {
            "tags": []
          },
          "execution_count": 6
        }
      ]
    },
    {
      "cell_type": "markdown",
      "metadata": {
        "id": "PTcd3E36d_0-"
      },
      "source": [
        "Trainable, non traiable parametre miktarlarını nasıl hesaplar buradaki prensip nedir? Bu parametre sayılarının nasıl hesaplandığını bilmek bizim için önemli midir?\n",
        "\n",
        "miktarı önemli değil train edeceklerini trainable yapacaksın tabi, ama transfer learning falan yapıp eski modelin eğitilmiş halini kullanacaksan ve üstüne yeni layerlar ekleyeceksen mesela o zaman eski modeli nontrainable yaprsın örnek olarak, sana kalmış.\n",
        "\n",
        "\n",
        "\n"
      ]
    },
    {
      "cell_type": "markdown",
      "metadata": {
        "id": "Ab9ID0bSeW9t"
      },
      "source": [
        "Validation_split yaparken kabul görmüş bir oran var mı? Validation_split hangi durumlarda verilir. Bu oranı hesaplamak için kullanılan her hangibir formuül var mıdır?\n",
        "\n",
        "her durumda ver, 3 data var train val test, val her epochta eval için kullanılır modelin train olurken görmediği datadaki performansını progress olarak görürsün, oranı da  sana kalmış internette falan kod incelersen görürsün, ama genelde trainin %20si %30u falan iyidir train testi ayırdıktan sonra\n"
      ]
    },
    {
      "cell_type": "code",
      "metadata": {
        "id": "36VcLpWuKKnY",
        "colab": {
          "base_uri": "https://localhost:8080/",
          "height": 313
        },
        "outputId": "c9a19b23-cbca-4098-abfe-bf554aad2160"
      },
      "source": [
        "plt.plot(hist.history[\"loss\"])\n",
        "plt.plot(hist.history[\"val_loss\"])\n",
        "plt.title(\"model loss\")\n",
        "plt.ylabel(\"loss\")\n",
        "plt.xlabel(\"epoch\")\n",
        "plt.legend([\"train\", \"test\"], loc=\"upper left\")\n",
        "plt.show()\n",
        "plt.savefig(\"loss.png\")\n"
      ],
      "execution_count": null,
      "outputs": [
        {
          "output_type": "display_data",
          "data": {
            "image/png": "[encoded data removed]",
            "text/plain": [
              "<Figure size 432x288 with 1 Axes>"
            ]
          },
          "metadata": {
            "tags": [],
            "needs_background": "light"
          }
        },
        {
          "output_type": "display_data",
          "data": {
            "text/plain": [
              "<Figure size 432x288 with 0 Axes>"
            ]
          },
          "metadata": {
            "tags": []
          }
        }
      ]
    },
    {
      "cell_type": "code",
      "metadata": {
        "id": "4kiHSQyrKP91",
        "colab": {
          "base_uri": "https://localhost:8080/",
          "height": 313
        },
        "outputId": "1b9a2191-d9be-451f-f493-d14133572428"
      },
      "source": [
        "plt.plot(hist.history[\"accuracy\"])\n",
        "plt.plot(hist.history[\"val_accuracy\"])\n",
        "plt.title(\"model accuracy\")\n",
        "plt.ylabel(\"accuracy\")\n",
        "plt.xlabel(\"epoch\")\n",
        "plt.legend([\"train\", \"test\"], loc=\"upper left\")\n",
        "plt.show()\n",
        "plt.savefig(\"accuracy.png\")\n"
      ],
      "execution_count": null,
      "outputs": [
        {
          "output_type": "display_data",
          "data": {
            "image/png": "[encoded data removed]",
            "text/plain": [
              "<Figure size 432x288 with 1 Axes>"
            ]
          },
          "metadata": {
            "tags": [],
            "needs_background": "light"
          }
        },
        {
          "output_type": "display_data",
          "data": {
            "text/plain": [
              "<Figure size 432x288 with 0 Axes>"
            ]
          },
          "metadata": {
            "tags": []
          }
        }
      ]
    },
    {
      "cell_type": "code",
      "metadata": {
        "id": "vMwYKCVy39ji",
        "colab": {
          "base_uri": "https://localhost:8080/",
          "height": 383
        },
        "outputId": "79bd12c0-8ec7-4e2d-cb6f-15fa2a5698bc"
      },
      "source": [
        "from sklearn.metrics import matthews_corrcoef, precision_score, accuracy_score, recall_score, f1_score, cohen_kappa_score, confusion_matrix\n",
        "import matplotlib.pyplot as plt\n",
        "import seaborn as sns\n",
        " \n",
        "accuracy = accuracy_score(y_score, y_pred)\n",
        "precision = precision_score(y_score, y_pred, average='micro')\n",
        "recall = recall_score(y_score, y_pred, average='macro')\n",
        "f1 = f1_score(y_score, y_pred, average='weighted')\n",
        "matthews = matthews_corrcoef(y_score, y_pred)\n",
        "kappa_score = cohen_kappa_score(y_score, y_pred)\n",
        " \n",
        "plt.figure(figsize=(5,4))\n",
        "cm = confusion_matrix(y_score, y_pred)\n",
        "sns.heatmap(cm, annot=True)\n",
        "#plt.title('kNN \\nAccuracy:{​​​​​​​​0:.3f}​​​​​​​​'.format(accuracy_score(y_score, y_pred)))\n",
        "plt.ylabel('True label')\n",
        "plt.xlabel('Predicted label')\n",
        "plt.savefig(\"confusion.png\")\n",
        " \n",
        "print(\"accuracy\", accuracy)\n",
        "print(\"precision\", precision)\n",
        "print(\"recall\", recall)\n",
        "print(\"f1\", f1)\n",
        "print(\"matthews\", matthews)\n",
        "print(\"kappa\", kappa_score)\n",
        "\n"
      ],
      "execution_count": null,
      "outputs": [
        {
          "output_type": "stream",
          "text": [
            "accuracy 0.45913014046369943\n",
            "precision 0.45913014046369943\n",
            "recall 0.45854911452957736\n",
            "f1 0.4569310752919922\n",
            "matthews 0.3239132997058522\n",
            "kappa 0.3237308362524679\n"
          ],
          "name": "stdout"
        },
        {
          "output_type": "display_data",
          "data": {
            "image/png": "[encoded data removed]",
            "text/plain": [
              "<Figure size 360x288 with 2 Axes>"
            ]
          },
          "metadata": {
            "tags": [],
            "needs_background": "light"
          }
        }
      ]
    }
  ]
}